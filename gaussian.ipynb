{
 "cells": [
  {
   "cell_type": "markdown",
   "id": "2db9d6e6",
   "metadata": {},
   "source": [
    "# Gaussian\n"
   ]
  },
  {
   "cell_type": "code",
   "execution_count": 1,
   "id": "96022825",
   "metadata": {},
   "outputs": [],
   "source": [
    "import numpy as np \n",
    "\n",
    "def Gaussian(x, mu, sigma):\n",
    "    return np.exp(-0.5*((x - mu)/sigma)**2)"
   ]
  },
  {
   "cell_type": "markdown",
   "id": "0fc69b7e",
   "metadata": {},
   "source": [
    "Discretize the domain x∈[a,b]"
   ]
  },
  {
   "cell_type": "code",
   "execution_count": 4,
   "id": "aff27adb",
   "metadata": {},
   "outputs": [],
   "source": [
    "x = np.arange(-1.0, 1.01, 0.01)\n",
    "dx = x[1] - x[0]\n",
    "g = Gaussian(x, 0.25, 0.25)"
   ]
  },
  {
   "cell_type": "code",
   "execution_count": null,
   "id": "b1a003c8",
   "metadata": {},
   "outputs": [],
   "source": []
  }
 ],
 "metadata": {
  "kernelspec": {
   "display_name": "Python 3",
   "language": "python",
   "name": "python3"
  },
  "language_info": {
   "codemirror_mode": {
    "name": "ipython",
    "version": 3
   },
   "file_extension": ".py",
   "mimetype": "text/x-python",
   "name": "python",
   "nbconvert_exporter": "python",
   "pygments_lexer": "ipython3",
   "version": "3.9.2"
  }
 },
 "nbformat": 4,
 "nbformat_minor": 5
}
